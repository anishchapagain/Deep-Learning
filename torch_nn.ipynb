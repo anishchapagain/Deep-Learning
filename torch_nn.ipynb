{
  "nbformat": 4,
  "nbformat_minor": 0,
  "metadata": {
    "colab": {
      "provenance": [],
      "authorship_tag": "ABX9TyNcGZuyOT+5RdJXEfpfTTwZ",
      "include_colab_link": true
    },
    "kernelspec": {
      "name": "python3",
      "display_name": "Python 3"
    },
    "language_info": {
      "name": "python"
    }
  },
  "cells": [
    {
      "cell_type": "markdown",
      "metadata": {
        "id": "view-in-github",
        "colab_type": "text"
      },
      "source": [
        "<a href=\"https://colab.research.google.com/github/anishchapagain/Deep-Learning/blob/main/torch_nn.ipynb\" target=\"_parent\"><img src=\"https://colab.research.google.com/assets/colab-badge.svg\" alt=\"Open In Colab\"/></a>"
      ]
    },
    {
      "cell_type": "markdown",
      "source": [
        "## PyTorch for Deep Learning Models"
      ],
      "metadata": {
        "id": "7bHhKrWuaoCJ"
      }
    },
    {
      "cell_type": "markdown",
      "source": [
        "Linear Regression Model Training in PyTorch"
      ],
      "metadata": {
        "id": "YW-dThHVkvTK"
      }
    },
    {
      "cell_type": "code",
      "execution_count": 2,
      "metadata": {
        "id": "fXZlkC3HaWiQ"
      },
      "outputs": [],
      "source": [
        "import torch"
      ]
    },
    {
      "cell_type": "markdown",
      "source": [
        "Input Data: tensor"
      ],
      "metadata": {
        "id": "lpIDox44fEJ5"
      }
    },
    {
      "cell_type": "code",
      "source": [
        "X = torch.tensor([[1.0], [2.0], [3.0], [4.0]])\n",
        "print(X)"
      ],
      "metadata": {
        "colab": {
          "base_uri": "https://localhost:8080/"
        },
        "id": "Y-Cu1s53fH8C",
        "outputId": "bcabbcf9-02e6-48bf-bdb5-3e2d7767a3e5"
      },
      "execution_count": 7,
      "outputs": [
        {
          "output_type": "stream",
          "name": "stdout",
          "text": [
            "tensor([[1.],\n",
            "        [2.],\n",
            "        [3.],\n",
            "        [4.]])\n"
          ]
        }
      ]
    },
    {
      "cell_type": "markdown",
      "source": [
        "Expected Output: y = 5x+1<br><b>Learning_weight:5, Learning_bias:1</b><br>\n",
        "example: x=1, y=5*1+1 = 6"
      ],
      "metadata": {
        "id": "_MfJxubofTtx"
      }
    },
    {
      "cell_type": "code",
      "source": [
        "y = torch.tensor([[6.0], [11.0], [15.0], [21.0]]) # 21 = 5*4+1\n",
        "print(y)"
      ],
      "metadata": {
        "colab": {
          "base_uri": "https://localhost:8080/"
        },
        "id": "oxVPcxu2faWy",
        "outputId": "188e40b6-ee61-4866-891c-964a55c7a067"
      },
      "execution_count": 21,
      "outputs": [
        {
          "output_type": "stream",
          "name": "stdout",
          "text": [
            "tensor([[ 6.],\n",
            "        [11.],\n",
            "        [15.],\n",
            "        [21.]])\n"
          ]
        }
      ]
    },
    {
      "cell_type": "markdown",
      "source": [
        "Input data, Model Parameter (weight & bias), Output Data"
      ],
      "metadata": {
        "id": "jjFWGXyqfnsS"
      }
    },
    {
      "cell_type": "markdown",
      "source": [
        "Define the model"
      ],
      "metadata": {
        "id": "hN56xaRygAZz"
      }
    },
    {
      "cell_type": "code",
      "source": [
        "# model = torch.nn.Linear(1, 1)  # Input size: 1, Output size: 1 , model= torch.nn.Linear(20, 30)\n",
        "\n",
        "model = torch.nn.Linear(1, 10)"
      ],
      "metadata": {
        "id": "aRjXAbZYgFnR"
      },
      "execution_count": 28,
      "outputs": []
    },
    {
      "cell_type": "code",
      "source": [
        "print(model)\n",
        "print(f\"Weight: {model.weight}\")\n",
        "print(f\"Bias: {model.bias}\")"
      ],
      "metadata": {
        "colab": {
          "base_uri": "https://localhost:8080/"
        },
        "id": "BaGuNnn3qq81",
        "outputId": "027e2db2-b962-4ae7-8f1a-d62e951c8641"
      },
      "execution_count": 37,
      "outputs": [
        {
          "output_type": "stream",
          "name": "stdout",
          "text": [
            "Linear(in_features=1, out_features=10, bias=True)\n",
            "Weight: Parameter containing:\n",
            "tensor([[4.6240],\n",
            "        [4.5613],\n",
            "        [4.9965],\n",
            "        [4.5242],\n",
            "        [4.9280],\n",
            "        [4.8455],\n",
            "        [4.7953],\n",
            "        [4.6109],\n",
            "        [4.9931],\n",
            "        [4.7188]], requires_grad=True)\n",
            "Bias: Parameter containing:\n",
            "tensor([1.8115, 1.9959, 0.7163, 2.1050, 0.9177, 1.1601, 1.3079, 1.8500, 0.7261,\n",
            "        1.5327], requires_grad=True)\n"
          ]
        }
      ]
    },
    {
      "cell_type": "markdown",
      "source": [
        "The weights and biases of the layer are initialized randomly and learned during the training process"
      ],
      "metadata": {
        "id": "P_oMk3_EjsBw"
      }
    },
    {
      "cell_type": "code",
      "source": [
        "models = torch.nn.Linear(2, 5)\n",
        "print(models)\n",
        "print(models.weight)\n",
        "print(models.bias)\n"
      ],
      "metadata": {
        "colab": {
          "base_uri": "https://localhost:8080/"
        },
        "id": "KfPe40BKqPat",
        "outputId": "726b902a-e90f-495b-ed48-839b72ece60d"
      },
      "execution_count": 35,
      "outputs": [
        {
          "output_type": "stream",
          "name": "stdout",
          "text": [
            "Linear(in_features=2, out_features=5, bias=True)\n",
            "Parameter containing:\n",
            "tensor([[-0.4470, -0.6388],\n",
            "        [ 0.4378,  0.0953],\n",
            "        [ 0.3476, -0.4315],\n",
            "        [ 0.5936,  0.4835],\n",
            "        [ 0.2164, -0.5710]], requires_grad=True)\n",
            "Parameter containing:\n",
            "tensor([ 0.5124, -0.4977, -0.0937,  0.1736,  0.1184], requires_grad=True)\n"
          ]
        }
      ]
    },
    {
      "cell_type": "markdown",
      "source": [
        "Train the model"
      ],
      "metadata": {
        "id": "DjSlclG2gKSR"
      }
    },
    {
      "cell_type": "code",
      "source": [
        "# The optimizer updates the model parameters based on the computed gradients\n",
        "learning_rate = 0.01\n",
        "\n",
        "# The model is trained using stochastic gradient descent (SGD) optimization\n",
        "optimizer = torch.optim.SGD(model.parameters(), lr=learning_rate)"
      ],
      "metadata": {
        "id": "X21MwWhzgQgQ"
      },
      "execution_count": 29,
      "outputs": []
    },
    {
      "cell_type": "code",
      "source": [
        "for epoch in range(1000):\n",
        "    y_pred = model(X) # Forward pass\n",
        "\n",
        "    loss = torch.mean((y_pred - y)**2) # mean squared error loss\n",
        "\n",
        "    # Backward pass and optimization\n",
        "    loss.backward()\n",
        "    optimizer.step()\n",
        "    optimizer.zero_grad()\n",
        "\n",
        "    # getting loss in every 100 epochs\n",
        "    if epoch % 25 == 0:\n",
        "        print(f\"Epoch {epoch}, Loss: {loss.item()}\")"
      ],
      "metadata": {
        "colab": {
          "base_uri": "https://localhost:8080/"
        },
        "id": "8bf9ytEYgSiy",
        "outputId": "f327d4b9-d803-4f3d-d4d2-72d77f335efe"
      },
      "execution_count": 30,
      "outputs": [
        {
          "output_type": "stream",
          "name": "stdout",
          "text": [
            "Epoch 0, Loss: 209.60678100585938\n",
            "Epoch 25, Loss: 90.4709701538086\n",
            "Epoch 50, Loss: 39.14471435546875\n",
            "Epoch 75, Loss: 17.031681060791016\n",
            "Epoch 100, Loss: 7.504096984863281\n",
            "Epoch 125, Loss: 3.39849591255188\n",
            "Epoch 150, Loss: 1.6287692785263062\n",
            "Epoch 175, Loss: 0.8653842806816101\n",
            "Epoch 200, Loss: 0.5355549454689026\n",
            "Epoch 225, Loss: 0.39252209663391113\n",
            "Epoch 250, Loss: 0.329977810382843\n",
            "Epoch 275, Loss: 0.30212217569351196\n",
            "Epoch 300, Loss: 0.28922468423843384\n",
            "Epoch 325, Loss: 0.2827847898006439\n",
            "Epoch 350, Loss: 0.27914008498191833\n",
            "Epoch 375, Loss: 0.27671223878860474\n",
            "Epoch 400, Loss: 0.27482151985168457\n",
            "Epoch 425, Loss: 0.27317479252815247\n",
            "Epoch 450, Loss: 0.27164560556411743\n",
            "Epoch 475, Loss: 0.27017900347709656\n",
            "Epoch 500, Loss: 0.26875144243240356\n",
            "Epoch 525, Loss: 0.2673526406288147\n",
            "Epoch 550, Loss: 0.2659778594970703\n",
            "Epoch 575, Loss: 0.2646248936653137\n",
            "Epoch 600, Loss: 0.2632925808429718\n",
            "Epoch 625, Loss: 0.2619803547859192\n",
            "Epoch 650, Loss: 0.2606877088546753\n",
            "Epoch 675, Loss: 0.25941431522369385\n",
            "Epoch 700, Loss: 0.2581600248813629\n",
            "Epoch 725, Loss: 0.2569240927696228\n",
            "Epoch 750, Loss: 0.2557067275047302\n",
            "Epoch 775, Loss: 0.2545073628425598\n",
            "Epoch 800, Loss: 0.2533259987831116\n",
            "Epoch 825, Loss: 0.2521619200706482\n",
            "Epoch 850, Loss: 0.25101548433303833\n",
            "Epoch 875, Loss: 0.24988582730293274\n",
            "Epoch 900, Loss: 0.24877290427684784\n",
            "Epoch 925, Loss: 0.24767673015594482\n",
            "Epoch 950, Loss: 0.24659672379493713\n",
            "Epoch 975, Loss: 0.24553287029266357\n"
          ]
        }
      ]
    },
    {
      "cell_type": "markdown",
      "source": [
        "Model testing"
      ],
      "metadata": {
        "id": "KDf48Fx4gn03"
      }
    },
    {
      "cell_type": "code",
      "source": [
        "X_test = torch.tensor([[5.0], [6.0], [10.0], [11.0]])\n",
        "y_test_pred = model(X_test)"
      ],
      "metadata": {
        "id": "V4mwDnZRe-9z"
      },
      "execution_count": 31,
      "outputs": []
    },
    {
      "cell_type": "code",
      "source": [
        "print(y_test_pred)"
      ],
      "metadata": {
        "colab": {
          "base_uri": "https://localhost:8080/"
        },
        "id": "mEsaTzcJfBv6",
        "outputId": "013b126c-d091-48c0-f2de-acba7c23fe5e"
      },
      "execution_count": 26,
      "outputs": [
        {
          "output_type": "stream",
          "name": "stdout",
          "text": [
            "tensor([[25.4470],\n",
            "        [30.3212],\n",
            "        [49.8182],\n",
            "        [54.6925]], grad_fn=<AddmmBackward0>)\n"
          ]
        }
      ]
    },
    {
      "cell_type": "code",
      "source": [
        "print(y_test_pred) # model = torch.nn.Linear(1, 10)"
      ],
      "metadata": {
        "colab": {
          "base_uri": "https://localhost:8080/"
        },
        "id": "ypxE5AGgj815",
        "outputId": "5ca6ee68-8b4e-4034-cf21-1f0c4c69d1e3"
      },
      "execution_count": 32,
      "outputs": [
        {
          "output_type": "stream",
          "name": "stdout",
          "text": [
            "tensor([[24.9314, 24.8023, 25.6988, 24.7258, 25.5576, 25.3878, 25.2843, 24.9045,\n",
            "         25.6919, 25.1268],\n",
            "        [29.5554, 29.3635, 30.6953, 29.2500, 30.4856, 30.2334, 30.0795, 29.5153,\n",
            "         30.6850, 29.8456],\n",
            "        [48.0513, 47.6086, 50.6813, 47.3466, 50.1975, 49.6155, 49.2606, 47.9589,\n",
            "         50.6576, 48.7209],\n",
            "        [52.6753, 52.1699, 55.6778, 51.8708, 55.1255, 54.4611, 54.0559, 52.5698,\n",
            "         55.6507, 53.4398]], grad_fn=<AddmmBackward0>)\n"
          ]
        }
      ]
    }
  ]
}