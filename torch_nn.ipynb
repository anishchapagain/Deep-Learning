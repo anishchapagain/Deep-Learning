{
  "nbformat": 4,
  "nbformat_minor": 0,
  "metadata": {
    "colab": {
      "provenance": [],
      "authorship_tag": "ABX9TyNh2lSYr3WtTYCzZa/oXDZ1",
      "include_colab_link": true
    },
    "kernelspec": {
      "name": "python3",
      "display_name": "Python 3"
    },
    "language_info": {
      "name": "python"
    }
  },
  "cells": [
    {
      "cell_type": "markdown",
      "metadata": {
        "id": "view-in-github",
        "colab_type": "text"
      },
      "source": [
        "<a href=\"https://colab.research.google.com/github/anishchapagain/Deep-Learning/blob/main/torch_nn.ipynb\" target=\"_parent\"><img src=\"https://colab.research.google.com/assets/colab-badge.svg\" alt=\"Open In Colab\"/></a>"
      ]
    },
    {
      "cell_type": "markdown",
      "source": [
        "## PyTorch for Deep Learning Models"
      ],
      "metadata": {
        "id": "7bHhKrWuaoCJ"
      }
    },
    {
      "cell_type": "markdown",
      "source": [
        "Linear Regression Model Training in PyTorch"
      ],
      "metadata": {
        "id": "YW-dThHVkvTK"
      }
    },
    {
      "cell_type": "code",
      "execution_count": 2,
      "metadata": {
        "id": "fXZlkC3HaWiQ"
      },
      "outputs": [],
      "source": [
        "import torch"
      ]
    },
    {
      "cell_type": "markdown",
      "source": [
        "Input Data: tensor"
      ],
      "metadata": {
        "id": "lpIDox44fEJ5"
      }
    },
    {
      "cell_type": "code",
      "source": [
        "X = torch.tensor([[1.0], [2.0], [3.0], [4.0]])\n",
        "print(X)"
      ],
      "metadata": {
        "colab": {
          "base_uri": "https://localhost:8080/"
        },
        "id": "Y-Cu1s53fH8C",
        "outputId": "bcabbcf9-02e6-48bf-bdb5-3e2d7767a3e5"
      },
      "execution_count": 7,
      "outputs": [
        {
          "output_type": "stream",
          "name": "stdout",
          "text": [
            "tensor([[1.],\n",
            "        [2.],\n",
            "        [3.],\n",
            "        [4.]])\n"
          ]
        }
      ]
    },
    {
      "cell_type": "markdown",
      "source": [
        "Expected Output: y = 5x+1<br><b>Learning_weight:5, Learning_bias:1</b><br>\n",
        "example: x=1, y=5*1+1 = 6"
      ],
      "metadata": {
        "id": "_MfJxubofTtx"
      }
    },
    {
      "cell_type": "code",
      "source": [
        "y = torch.tensor([[6.0], [11.0], [15.0], [21.0]]) # 21 = 5*4+1\n",
        "print(y)"
      ],
      "metadata": {
        "colab": {
          "base_uri": "https://localhost:8080/"
        },
        "id": "oxVPcxu2faWy",
        "outputId": "188e40b6-ee61-4866-891c-964a55c7a067"
      },
      "execution_count": 21,
      "outputs": [
        {
          "output_type": "stream",
          "name": "stdout",
          "text": [
            "tensor([[ 6.],\n",
            "        [11.],\n",
            "        [15.],\n",
            "        [21.]])\n"
          ]
        }
      ]
    },
    {
      "cell_type": "markdown",
      "source": [
        "Input data, Model Parameter (weight & bias), Output Data"
      ],
      "metadata": {
        "id": "jjFWGXyqfnsS"
      }
    },
    {
      "cell_type": "markdown",
      "source": [
        "Define the model"
      ],
      "metadata": {
        "id": "hN56xaRygAZz"
      }
    },
    {
      "cell_type": "code",
      "source": [
        "model = torch.nn.Linear(1, 1)  # Input size: 1, Output size: 1 , model= torch.nn.Linear(20, 30)"
      ],
      "metadata": {
        "id": "aRjXAbZYgFnR"
      },
      "execution_count": 22,
      "outputs": []
    },
    {
      "cell_type": "markdown",
      "source": [],
      "metadata": {
        "id": "P_oMk3_EjsBw"
      }
    },
    {
      "cell_type": "markdown",
      "source": [
        "Train the model"
      ],
      "metadata": {
        "id": "DjSlclG2gKSR"
      }
    },
    {
      "cell_type": "code",
      "source": [
        "learning_rate = 0.01\n",
        "optimizer = torch.optim.SGD(model.parameters(), lr=learning_rate)"
      ],
      "metadata": {
        "id": "X21MwWhzgQgQ"
      },
      "execution_count": 23,
      "outputs": []
    },
    {
      "cell_type": "code",
      "source": [
        "for epoch in range(1000):\n",
        "    y_pred = model(X) # Forward pass\n",
        "\n",
        "    loss = torch.mean((y_pred - y)**2) # Loss\n",
        "\n",
        "    # Backward pass and optimization\n",
        "    loss.backward()\n",
        "    optimizer.step()\n",
        "    optimizer.zero_grad()\n",
        "\n",
        "    # getting loss in every 100 epochs\n",
        "    if epoch % 25 == 0:\n",
        "        print(f\"Epoch {epoch}, Loss: {loss.item()}\")"
      ],
      "metadata": {
        "colab": {
          "base_uri": "https://localhost:8080/"
        },
        "id": "8bf9ytEYgSiy",
        "outputId": "9ecd6b82-4717-4b1b-c013-04f07a80d5ff"
      },
      "execution_count": 24,
      "outputs": [
        {
          "output_type": "stream",
          "name": "stdout",
          "text": [
            "Epoch 0, Loss: 223.435546875\n",
            "Epoch 25, Loss: 0.5303654670715332\n",
            "Epoch 50, Loss: 0.46023643016815186\n",
            "Epoch 75, Loss: 0.42052245140075684\n",
            "Epoch 100, Loss: 0.38634130358695984\n",
            "Epoch 125, Loss: 0.3569174110889435\n",
            "Epoch 150, Loss: 0.3315899968147278\n",
            "Epoch 175, Loss: 0.3097888231277466\n",
            "Epoch 200, Loss: 0.2910234034061432\n",
            "Epoch 225, Loss: 0.274870365858078\n",
            "Epoch 250, Loss: 0.2609660029411316\n",
            "Epoch 275, Loss: 0.2489975094795227\n",
            "Epoch 300, Loss: 0.23869529366493225\n",
            "Epoch 325, Loss: 0.22982710599899292\n",
            "Epoch 350, Loss: 0.22219428420066833\n",
            "Epoch 375, Loss: 0.2156236469745636\n",
            "Epoch 400, Loss: 0.20996761322021484\n",
            "Epoch 425, Loss: 0.20509964227676392\n",
            "Epoch 450, Loss: 0.20090892910957336\n",
            "Epoch 475, Loss: 0.1973017156124115\n",
            "Epoch 500, Loss: 0.19419732689857483\n",
            "Epoch 525, Loss: 0.19152480363845825\n",
            "Epoch 550, Loss: 0.18922391533851624\n",
            "Epoch 575, Loss: 0.1872437596321106\n",
            "Epoch 600, Loss: 0.1855388730764389\n",
            "Epoch 625, Loss: 0.18407177925109863\n",
            "Epoch 650, Loss: 0.18280857801437378\n",
            "Epoch 675, Loss: 0.1817217916250229\n",
            "Epoch 700, Loss: 0.1807853877544403\n",
            "Epoch 725, Loss: 0.17998036742210388\n",
            "Epoch 750, Loss: 0.1792871057987213\n",
            "Epoch 775, Loss: 0.1786903738975525\n",
            "Epoch 800, Loss: 0.1781763881444931\n",
            "Epoch 825, Loss: 0.17773431539535522\n",
            "Epoch 850, Loss: 0.17735370993614197\n",
            "Epoch 875, Loss: 0.1770254224538803\n",
            "Epoch 900, Loss: 0.17674356698989868\n",
            "Epoch 925, Loss: 0.1765008121728897\n",
            "Epoch 950, Loss: 0.17629186809062958\n",
            "Epoch 975, Loss: 0.17611193656921387\n"
          ]
        }
      ]
    },
    {
      "cell_type": "markdown",
      "source": [
        "Model testing"
      ],
      "metadata": {
        "id": "KDf48Fx4gn03"
      }
    },
    {
      "cell_type": "code",
      "source": [
        "X_test = torch.tensor([[5.0], [6.0], [10.0], [11.0]])\n",
        "y_test_pred = model(X_test)"
      ],
      "metadata": {
        "id": "V4mwDnZRe-9z"
      },
      "execution_count": 25,
      "outputs": []
    },
    {
      "cell_type": "code",
      "source": [
        "print(y_test_pred)"
      ],
      "metadata": {
        "colab": {
          "base_uri": "https://localhost:8080/"
        },
        "id": "mEsaTzcJfBv6",
        "outputId": "013b126c-d091-48c0-f2de-acba7c23fe5e"
      },
      "execution_count": 26,
      "outputs": [
        {
          "output_type": "stream",
          "name": "stdout",
          "text": [
            "tensor([[25.4470],\n",
            "        [30.3212],\n",
            "        [49.8182],\n",
            "        [54.6925]], grad_fn=<AddmmBackward0>)\n"
          ]
        }
      ]
    },
    {
      "cell_type": "code",
      "source": [
        "print(y_test_pred)"
      ],
      "metadata": {
        "colab": {
          "base_uri": "https://localhost:8080/"
        },
        "id": "ypxE5AGgj815",
        "outputId": "ee5446e6-02cd-4392-9f83-55f378bb33ea"
      },
      "execution_count": 27,
      "outputs": [
        {
          "output_type": "stream",
          "name": "stdout",
          "text": [
            "tensor([[25.4470],\n",
            "        [30.3212],\n",
            "        [49.8182],\n",
            "        [54.6925]], grad_fn=<AddmmBackward0>)\n"
          ]
        }
      ]
    }
  ]
}