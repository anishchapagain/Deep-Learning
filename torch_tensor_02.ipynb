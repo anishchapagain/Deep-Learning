{
  "nbformat": 4,
  "nbformat_minor": 0,
  "metadata": {
    "colab": {
      "provenance": [],
      "collapsed_sections": [
        "D4-gmavAIlbT",
        "HFfxMnGHWpgM",
        "glALgFJWWlQN",
        "V9tkdZ3PWg5v",
        "HpC81ZXQWYYM",
        "DLZZY3aXW0Qt",
        "IfTbneV5aZ0k",
        "V9G0AoQ9a7Wk",
        "fF8cN7uKbCtm"
      ],
      "authorship_tag": "ABX9TyP7itxYQxyLIhntUTAX/vAh",
      "include_colab_link": true
    },
    "kernelspec": {
      "name": "python3",
      "display_name": "Python 3"
    },
    "language_info": {
      "name": "python"
    }
  },
  "cells": [
    {
      "cell_type": "markdown",
      "metadata": {
        "id": "view-in-github",
        "colab_type": "text"
      },
      "source": [
        "<a href=\"https://colab.research.google.com/github/anishchapagain/Deep-Learning/blob/main/torch_tensor_02.ipynb\" target=\"_parent\"><img src=\"https://colab.research.google.com/assets/colab-badge.svg\" alt=\"Open In Colab\"/></a>"
      ]
    },
    {
      "cell_type": "markdown",
      "source": [
        "# Tensor: random data , range, dtype, numpy, math, image\n",
        "[Doc](https://pytorch.org/tutorials/beginner/basics/tensorqs_tutorial.html)"
      ],
      "metadata": {
        "id": "D4-gmavAIlbT"
      }
    },
    {
      "cell_type": "code",
      "execution_count": 1,
      "metadata": {
        "id": "-pe_hKssCZgI"
      },
      "outputs": [],
      "source": [
        "import torch"
      ]
    },
    {
      "cell_type": "markdown",
      "source": [
        "Generate a random tensor data"
      ],
      "metadata": {
        "id": "FGXwg64QIzi4"
      }
    },
    {
      "cell_type": "code",
      "source": [
        "z = torch.rand(3, 5)\n",
        "\n",
        "print(z)"
      ],
      "metadata": {
        "colab": {
          "base_uri": "https://localhost:8080/"
        },
        "id": "bAMSttYgH0Hc",
        "outputId": "dbbd1e58-ea84-4e7b-868b-13a78e6b22c9"
      },
      "execution_count": 2,
      "outputs": [
        {
          "output_type": "stream",
          "name": "stdout",
          "text": [
            "tensor([[0.7230, 0.7688, 0.4918, 0.4990, 0.9025],\n",
            "        [0.6202, 0.2536, 0.5379, 0.9531, 0.3313],\n",
            "        [0.6898, 0.8463, 0.8904, 0.7110, 0.3785]])\n"
          ]
        }
      ]
    },
    {
      "cell_type": "code",
      "source": [
        "zn = torch.randn(3,5) # normal distribution\n",
        "print(zn)\n"
      ],
      "metadata": {
        "colab": {
          "base_uri": "https://localhost:8080/"
        },
        "id": "ODE-jG57eqIX",
        "outputId": "f15e494a-3877-4ccc-f03c-531130b3ae72"
      },
      "execution_count": 3,
      "outputs": [
        {
          "output_type": "stream",
          "name": "stdout",
          "text": [
            "tensor([[ 0.3829,  0.9297, -0.4726,  0.0161, -0.5714],\n",
            "        [-0.8528,  2.9368,  0.6552,  2.8415,  0.0941],\n",
            "        [-1.6363, -1.5588,  0.4918,  1.3066, -0.5225]])\n"
          ]
        }
      ]
    },
    {
      "cell_type": "markdown",
      "source": [
        "Few tensor properties"
      ],
      "metadata": {
        "id": "9N3EbxyVIi7E"
      }
    },
    {
      "cell_type": "code",
      "source": [
        "z.shape, z.dtype, z.ndim"
      ],
      "metadata": {
        "colab": {
          "base_uri": "https://localhost:8080/"
        },
        "id": "1YoTGFggIQg0",
        "outputId": "8fe6dfcd-d3f4-4645-997c-b1ece26a0842"
      },
      "execution_count": 4,
      "outputs": [
        {
          "output_type": "execute_result",
          "data": {
            "text/plain": [
              "(torch.Size([3, 5]), torch.float32, 2)"
            ]
          },
          "metadata": {},
          "execution_count": 4
        }
      ]
    },
    {
      "cell_type": "code",
      "source": [
        "ra = torch.rand(2, 3, 5)\n",
        "print(ra)"
      ],
      "metadata": {
        "colab": {
          "base_uri": "https://localhost:8080/"
        },
        "id": "LPGh2xsOLDh7",
        "outputId": "aebd9017-b3b2-4bfc-fc76-998c8a5e85b3"
      },
      "execution_count": 5,
      "outputs": [
        {
          "output_type": "stream",
          "name": "stdout",
          "text": [
            "tensor([[[0.7740, 0.1816, 0.5400, 0.1608, 0.3197],\n",
            "         [0.9013, 0.7961, 0.7959, 0.7603, 0.1371],\n",
            "         [0.3806, 0.6917, 0.5006, 0.2040, 0.1884]],\n",
            "\n",
            "        [[0.2268, 0.3978, 0.2645, 0.5984, 0.9665],\n",
            "         [0.5106, 0.8138, 0.1545, 0.3528, 0.4028],\n",
            "         [0.5008, 0.3433, 0.1817, 0.6557, 0.0820]]])\n"
          ]
        }
      ]
    },
    {
      "cell_type": "code",
      "source": [
        "ra.shape, ra.dtype, ra.ndim"
      ],
      "metadata": {
        "colab": {
          "base_uri": "https://localhost:8080/"
        },
        "id": "18uADQ95sz7h",
        "outputId": "e2ff06f3-c16d-4d6c-8286-6ec4beb02ef2"
      },
      "execution_count": 6,
      "outputs": [
        {
          "output_type": "execute_result",
          "data": {
            "text/plain": [
              "(torch.Size([2, 3, 5]), torch.float32, 3)"
            ]
          },
          "metadata": {},
          "execution_count": 6
        }
      ]
    },
    {
      "cell_type": "code",
      "source": [
        "# Create random seed\n",
        "\n",
        "RANDOM_SEED = 42\n",
        "torch.manual_seed(RANDOM_SEED)"
      ],
      "metadata": {
        "colab": {
          "base_uri": "https://localhost:8080/"
        },
        "id": "3fuFLoC4tLDk",
        "outputId": "6eff364a-fdaf-4771-87a0-64dddf93fa48"
      },
      "execution_count": 7,
      "outputs": [
        {
          "output_type": "execute_result",
          "data": {
            "text/plain": [
              "<torch._C.Generator at 0x7de9d023c3d0>"
            ]
          },
          "metadata": {},
          "execution_count": 7
        }
      ]
    },
    {
      "cell_type": "code",
      "source": [
        "rand1 = torch.rand(3, 5)\n",
        "\n",
        "torch.manual_seed(RANDOM_SEED)\n",
        "rand2 = torch.rand(3, 5)\n",
        "\n",
        "print(rand1)\n",
        "print(rand2)\n",
        "print(rand1==rand2)\n"
      ],
      "metadata": {
        "colab": {
          "base_uri": "https://localhost:8080/"
        },
        "id": "Uhms_tQxsqQz",
        "outputId": "f197b452-9e20-4b83-99f1-cf419e350254"
      },
      "execution_count": null,
      "outputs": [
        {
          "output_type": "stream",
          "name": "stdout",
          "text": [
            "tensor([[0.8823, 0.9150, 0.3829, 0.9593, 0.3904],\n",
            "        [0.6009, 0.2566, 0.7936, 0.9408, 0.1332],\n",
            "        [0.9346, 0.5936, 0.8694, 0.5677, 0.7411]])\n"
          ]
        }
      ]
    },
    {
      "cell_type": "code",
      "source": [],
      "metadata": {
        "id": "gGja8-qjLNPb"
      },
      "execution_count": null,
      "outputs": []
    },
    {
      "cell_type": "code",
      "source": [
        "zero = torch.zeros(3, 5)\n",
        "print(zero)"
      ],
      "metadata": {
        "id": "eC9HXR5uLzHb"
      },
      "execution_count": null,
      "outputs": []
    },
    {
      "cell_type": "code",
      "source": [
        "ones = torch.ones(3, 5)\n",
        "print(ones)"
      ],
      "metadata": {
        "id": "t8Cgohn7MFlD"
      },
      "execution_count": null,
      "outputs": []
    },
    {
      "cell_type": "code",
      "source": [
        "# Get device\n",
        "\n",
        "ones.device"
      ],
      "metadata": {
        "id": "Djx5FGMqSPSE"
      },
      "execution_count": null,
      "outputs": []
    },
    {
      "cell_type": "markdown",
      "source": [
        "## Range: Create a tensor of evenly spaced values from start to end, stepping by step\n"
      ],
      "metadata": {
        "id": "b4hbgjycMPyx"
      }
    },
    {
      "cell_type": "code",
      "source": [
        "start = 0\n",
        "end = 10\n",
        "step = 2"
      ],
      "metadata": {
        "id": "5wzBeLhvMsqp"
      },
      "execution_count": null,
      "outputs": []
    },
    {
      "cell_type": "code",
      "source": [
        "range_tensor = torch.range(start, end, step)\n",
        "print(range_tensor)"
      ],
      "metadata": {
        "id": "s0GfR5xsMRdY"
      },
      "execution_count": null,
      "outputs": []
    },
    {
      "cell_type": "code",
      "source": [
        "result = torch.arange(start, end, step)\n",
        "print(result)  # Output: tensor([0, 2, 4, 6, 8])"
      ],
      "metadata": {
        "id": "fhavrYLEMfh9"
      },
      "execution_count": null,
      "outputs": []
    },
    {
      "cell_type": "markdown",
      "source": [
        "## DataTypes\n",
        "### Memory issue"
      ],
      "metadata": {
        "id": "nZhHGW6ON0GS"
      }
    },
    {
      "cell_type": "code",
      "source": [
        "dt = torch.tensor([1, 2, 3, 4])\n",
        "print(dt.dtype)"
      ],
      "metadata": {
        "id": "Hh8TD_p7PlXq"
      },
      "execution_count": null,
      "outputs": []
    },
    {
      "cell_type": "code",
      "source": [
        "dt"
      ],
      "metadata": {
        "id": "CU65mJe0Po36"
      },
      "execution_count": null,
      "outputs": []
    },
    {
      "cell_type": "code",
      "source": [
        "dtNone = torch.tensor([1, 2, 3, 4], dtype = None)\n",
        "print(dtNone.dtype)"
      ],
      "metadata": {
        "id": "ji4jwtulN2SK"
      },
      "execution_count": null,
      "outputs": []
    },
    {
      "cell_type": "code",
      "source": [
        "dtNone"
      ],
      "metadata": {
        "id": "deCE4n89PG8z"
      },
      "execution_count": null,
      "outputs": []
    },
    {
      "cell_type": "code",
      "source": [
        "dt32 = torch.tensor([1, 2, 3, 4], dtype = torch.float32)\n",
        "print(dt32.dtype)"
      ],
      "metadata": {
        "id": "QajJ7q6UOG9a"
      },
      "execution_count": null,
      "outputs": []
    },
    {
      "cell_type": "code",
      "source": [
        "dt32"
      ],
      "metadata": {
        "id": "7Zvs8HMWO9-Q"
      },
      "execution_count": null,
      "outputs": []
    },
    {
      "cell_type": "code",
      "source": [
        "dt16 = torch.tensor([1, 2, 3, 4], dtype = torch.float16)\n",
        "print(dt16.dtype)"
      ],
      "metadata": {
        "id": "HkLmEhnRObIK"
      },
      "execution_count": null,
      "outputs": []
    },
    {
      "cell_type": "code",
      "source": [
        "dt16"
      ],
      "metadata": {
        "id": "3dGBr5QMPfjD"
      },
      "execution_count": null,
      "outputs": []
    },
    {
      "cell_type": "markdown",
      "source": [
        "Multiply different 'dtype' tensor"
      ],
      "metadata": {
        "id": "hYH1Npg8PrjJ"
      }
    },
    {
      "cell_type": "code",
      "source": [
        "dt*dt16"
      ],
      "metadata": {
        "id": "9qSf9ziDPxJe"
      },
      "execution_count": null,
      "outputs": []
    },
    {
      "cell_type": "code",
      "source": [
        "test = dt16*dt32\n",
        "print(test)"
      ],
      "metadata": {
        "id": "I5nPEGKUP2cK"
      },
      "execution_count": null,
      "outputs": []
    },
    {
      "cell_type": "code",
      "source": [
        "test.dtype, test.shape, test.ndim"
      ],
      "metadata": {
        "id": "QKu2Sk35QFHO"
      },
      "execution_count": null,
      "outputs": []
    },
    {
      "cell_type": "markdown",
      "source": [
        "**Numpy**"
      ],
      "metadata": {
        "id": "COmbqHuEQxsD"
      }
    },
    {
      "cell_type": "code",
      "source": [
        "import numpy as np"
      ],
      "metadata": {
        "id": "XG3NKZynQzQd"
      },
      "execution_count": null,
      "outputs": []
    },
    {
      "cell_type": "code",
      "source": [
        "ones = np.ones((3, 5))\n",
        "print(ones)"
      ],
      "metadata": {
        "id": "eScyN2QqRDUs"
      },
      "execution_count": null,
      "outputs": []
    },
    {
      "cell_type": "code",
      "source": [
        "ones.dtype"
      ],
      "metadata": {
        "id": "8qSz8W69rLcd"
      },
      "execution_count": null,
      "outputs": []
    },
    {
      "cell_type": "markdown",
      "source": [
        "### Convert ones to torch tensor **from_numpy** | **tensor.numpy**\n"
      ],
      "metadata": {
        "id": "0-5lHsv2SYkj"
      }
    },
    {
      "cell_type": "code",
      "source": [
        "ones_tensor = torch.from_numpy(ones)\n",
        "print(ones_tensor)"
      ],
      "metadata": {
        "id": "DlkDGl5_RGJ6"
      },
      "execution_count": null,
      "outputs": []
    },
    {
      "cell_type": "code",
      "source": [
        "ones_tensor.dtype"
      ],
      "metadata": {
        "id": "SahOS8RWrQBB"
      },
      "execution_count": null,
      "outputs": []
    },
    {
      "cell_type": "markdown",
      "source": [
        "### Convert tensor to numpy\n"
      ],
      "metadata": {
        "id": "-YW9Jr32SdLn"
      }
    },
    {
      "cell_type": "code",
      "source": [
        "numpy_array = ones_tensor.numpy()\n",
        "print(numpy_array)\n",
        "\n",
        "# Common properties\n",
        "print(\"Tensor device:\", ones_tensor.device)\n",
        "print(\"Tensor shape:\", ones_tensor.shape)\n",
        "print(\"Numpy array shape:\", numpy_array.shape)\n",
        "\n",
        "print(\"Tensor dtype:\", ones_tensor.dtype)\n",
        "print(\"Numpy array dtype:\", numpy_array.dtype)"
      ],
      "metadata": {
        "id": "G0XZcfBGRY31"
      },
      "execution_count": null,
      "outputs": []
    },
    {
      "cell_type": "code",
      "source": [
        "numpy_array = numpy_array+1\n",
        "print(numpy_array)"
      ],
      "metadata": {
        "id": "fMXuI1Rmrivr"
      },
      "execution_count": null,
      "outputs": []
    },
    {
      "cell_type": "markdown",
      "source": [
        "## Math Operations"
      ],
      "metadata": {
        "id": "ZGthIJm-TJI1"
      }
    },
    {
      "cell_type": "code",
      "source": [
        "tensor1 = torch.tensor([[1, 2], [3, 4]])\n",
        "tensor2 = torch.tensor([[5, 6], [7, 8]])"
      ],
      "metadata": {
        "id": "hygKmRyXWwdo"
      },
      "execution_count": null,
      "outputs": []
    },
    {
      "cell_type": "markdown",
      "source": [
        "### Tensor addition"
      ],
      "metadata": {
        "id": "HFfxMnGHWpgM"
      }
    },
    {
      "cell_type": "code",
      "source": [
        "addition_result = tensor1 + tensor2\n",
        "\n",
        "print(\"Addition Result:\")\n",
        "print(addition_result)"
      ],
      "metadata": {
        "id": "GNGH0dNuTckj"
      },
      "execution_count": null,
      "outputs": []
    },
    {
      "cell_type": "code",
      "source": [
        "addition_result = tensor1.add(tensor2) # tensor.add\n",
        "\n",
        "print(\"\\nAddition Result:\")\n",
        "print(addition_result)"
      ],
      "metadata": {
        "id": "6Y5_LdLUULho"
      },
      "execution_count": null,
      "outputs": []
    },
    {
      "cell_type": "code",
      "source": [
        "addition_result + 5"
      ],
      "metadata": {
        "id": "TMU67pqSUQNa"
      },
      "execution_count": null,
      "outputs": []
    },
    {
      "cell_type": "markdown",
      "source": [
        "### Tensor subtraction"
      ],
      "metadata": {
        "id": "glALgFJWWlQN"
      }
    },
    {
      "cell_type": "code",
      "source": [
        "subtraction_result = tensor1 - tensor2\n",
        "\n",
        "print(\"\\nSubtraction Result:\")\n",
        "print(subtraction_result)"
      ],
      "metadata": {
        "id": "KH0a3ojoTs61"
      },
      "execution_count": null,
      "outputs": []
    },
    {
      "cell_type": "code",
      "source": [
        "subtraction_result = tensor1.sub(tensor2) # tensor.sub\n",
        "\n",
        "print(\"\\nSubtraction Result:\")\n",
        "print(subtraction_result)"
      ],
      "metadata": {
        "id": "nORg5_oQUBIx"
      },
      "execution_count": null,
      "outputs": []
    },
    {
      "cell_type": "code",
      "source": [
        "subtraction_result-10"
      ],
      "metadata": {
        "id": "0rsLKOMWUGHM"
      },
      "execution_count": null,
      "outputs": []
    },
    {
      "cell_type": "markdown",
      "source": [
        "### Tensor multiplication (element-wise)\n"
      ],
      "metadata": {
        "id": "V9tkdZ3PWg5v"
      }
    },
    {
      "cell_type": "code",
      "source": [
        "multiplication_result = tensor1 * tensor2\n",
        "\n",
        "print(\"\\nElement-wise Multiplication Result:\")\n",
        "print(multiplication_result)"
      ],
      "metadata": {
        "id": "-zYvJ7bYTzTU"
      },
      "execution_count": null,
      "outputs": []
    },
    {
      "cell_type": "code",
      "source": [
        "multiplication_result = tensor1.mul(tensor2) # tensor.mul\n",
        "print(\"\\nElement-wise Multiplication Result:\")\n",
        "print(multiplication_result)"
      ],
      "metadata": {
        "id": "EmfqvhihT4tm"
      },
      "execution_count": null,
      "outputs": []
    },
    {
      "cell_type": "code",
      "source": [
        "multiplication_result*10"
      ],
      "metadata": {
        "id": "zz-GY0ByUlb7"
      },
      "execution_count": null,
      "outputs": []
    },
    {
      "cell_type": "markdown",
      "source": [
        "### Tensor division (element-wise)\n"
      ],
      "metadata": {
        "id": "HpC81ZXQWYYM"
      }
    },
    {
      "cell_type": "code",
      "source": [
        "division_result = tensor1 / tensor2\n",
        "print(\"\\nElement-wise Division Result:\")\n",
        "print(division_result)"
      ],
      "metadata": {
        "id": "jtVTxO-VTMhI"
      },
      "execution_count": null,
      "outputs": []
    },
    {
      "cell_type": "code",
      "source": [
        "division_result = tensor1.div(tensor2) # tensor.div\n",
        "print(\"\\nElement-wise Division Result:\")\n",
        "print(division_result)"
      ],
      "metadata": {
        "id": "KmmL5BkeUxrq"
      },
      "execution_count": null,
      "outputs": []
    },
    {
      "cell_type": "code",
      "source": [
        "division_result/10"
      ],
      "metadata": {
        "id": "vAXET41LU2Ed"
      },
      "execution_count": null,
      "outputs": []
    },
    {
      "cell_type": "markdown",
      "source": [
        "### Matrix multiplication"
      ],
      "metadata": {
        "id": "DLZZY3aXW0Qt"
      }
    },
    {
      "cell_type": "code",
      "source": [
        "tensor3 = torch.tensor([[1, 2, 3], [4, 5, 6]])\n",
        "tensor4 = torch.tensor([[7, 8], [9, 10], [11, 12]])\n",
        "matrix_multiplication_result = torch.matmul(tensor3, tensor4) # matmul\n",
        "\n",
        "# 1*7+2*9+3*11 = 58\n",
        "# 1*8+2*10+3*12 = 64\n",
        "# 4*7+5*9+6*11 = 139\n",
        "# 4*8+5*10+6*12 = 154\n",
        "print(\"\\nMatrix Multiplication Result:\")\n",
        "print(matrix_multiplication_result)"
      ],
      "metadata": {
        "id": "ViCIkQIWUuIR"
      },
      "execution_count": null,
      "outputs": []
    },
    {
      "cell_type": "code",
      "source": [
        "# tensor.matmul or tensor3 @ tensor4 or torch.mm\n",
        "\n",
        "matrix_multiplication_result = tensor3.matmul(tensor4)\n",
        "print(\"\\nMatrix Multiplication Result:\")\n",
        "print(matrix_multiplication_result)"
      ],
      "metadata": {
        "id": "P5jBvODTVBTF"
      },
      "execution_count": null,
      "outputs": []
    },
    {
      "cell_type": "code",
      "source": [
        "matrix_multiplication_result.shape, matrix_multiplication_result.ndim"
      ],
      "metadata": {
        "id": "Re8E42FPVGSU"
      },
      "execution_count": null,
      "outputs": []
    },
    {
      "cell_type": "markdown",
      "source": [
        "#### <u>**inner dimension** of two matrix should be same, resulting matrix will be of **outer demension**</u>"
      ],
      "metadata": {
        "id": "wmClVoGxYvw2"
      }
    },
    {
      "cell_type": "markdown",
      "source": [
        "### Matrix transpose (**tensor.T**)\n"
      ],
      "metadata": {
        "id": "IfTbneV5aZ0k"
      }
    },
    {
      "cell_type": "code",
      "source": [
        "tensor = torch.tensor([[1, 2, 3], [4, 5, 6]])\n",
        "transposed_tensor = tensor.T  # or torch.transpose(tensor, 0, 1)\n",
        "\n",
        "print(\"\\nOriginal Tensor:\")\n",
        "print(tensor)\n",
        "print(\"\\nTransposed Tensor:\")\n",
        "print(transposed_tensor)"
      ],
      "metadata": {
        "id": "tlnUFvglaRnc"
      },
      "execution_count": null,
      "outputs": []
    },
    {
      "cell_type": "markdown",
      "source": [
        "### Example to illustrate the need for transpose in matrix multiplication"
      ],
      "metadata": {
        "id": "V9G0AoQ9a7Wk"
      }
    },
    {
      "cell_type": "code",
      "source": [
        "\n",
        "# Let's say we have two matrices:\n",
        "matrix1 = torch.tensor([[1, 2],\n",
        "                       [3, 4]])\n",
        "matrix2 = torch.tensor([[5, 6],\n",
        "                       [7, 8]])\n",
        "\n",
        "# If we try to multiply them directly (without transpose):\n",
        "try:\n",
        "  result = torch.matmul(matrix1, matrix2)\n",
        "  print(result)\n",
        "except RuntimeError as e:\n",
        "  print(\"\\nError:\", e)\n",
        "\n",
        "# This will throw an error because the inner dimensions don't match for matrix multiplication.\n",
        "# matrix1 (2x2) and matrix2 (2x2) -> inner dimensions are both 2."
      ],
      "metadata": {
        "id": "1ndV-z2vajO8"
      },
      "execution_count": null,
      "outputs": []
    },
    {
      "cell_type": "markdown",
      "source": [
        "### To perform matrix multiplication, we need to transpose one of the matrices so that the inner dimensions match. Let's transpose matrix2:"
      ],
      "metadata": {
        "id": "fF8cN7uKbCtm"
      }
    },
    {
      "cell_type": "code",
      "source": [
        "matrix2"
      ],
      "metadata": {
        "id": "WiVLGR6bb2MO"
      },
      "execution_count": null,
      "outputs": []
    },
    {
      "cell_type": "code",
      "source": [
        "matrix2_transposed = matrix2.T\n",
        "matrix2_transposed"
      ],
      "metadata": {
        "id": "ebY2TN43b8Ws"
      },
      "execution_count": null,
      "outputs": []
    },
    {
      "cell_type": "code",
      "source": [
        "# Now, the multiplication will work:\n",
        "result = torch.matmul(matrix1, matrix2_transposed)\n",
        "\n",
        "print(\"\\nResult after transposing matrix2:\")\n",
        "print(result)\n",
        "\n",
        "# Explanation:\n",
        "# - Matrix multiplication requires the number of columns in the first matrix\n",
        "#   to match the number of rows in the second matrix.\n",
        "\n",
        "# - By transposing matrix2, we swapped its rows and columns, making the inner dimensions compatible.\n",
        "# - This allows us to perform the multiplication and obtain the correct result.\n"
      ],
      "metadata": {
        "id": "dvJx4te3bLPD"
      },
      "execution_count": null,
      "outputs": []
    },
    {
      "cell_type": "markdown",
      "source": [
        "## Aggregation"
      ],
      "metadata": {
        "id": "91lHIF3xflhq"
      }
    },
    {
      "cell_type": "code",
      "source": [
        "tensor1"
      ],
      "metadata": {
        "id": "w93i0cKFfpTX"
      },
      "execution_count": null,
      "outputs": []
    },
    {
      "cell_type": "code",
      "source": [
        "tensor2 = torch.tensor([[5,6,7],[8,9,10]])\n",
        "tensor2"
      ],
      "metadata": {
        "id": "Thn7nZ0bfsgm"
      },
      "execution_count": null,
      "outputs": []
    },
    {
      "cell_type": "markdown",
      "source": [
        "### Sum of all elements in a tensor"
      ],
      "metadata": {
        "id": "ZsTAKo6Qk0L4"
      }
    },
    {
      "cell_type": "code",
      "source": [
        "sum_one = torch.sum(tensor1)  # or tensor1.sum()\n",
        "print(f\"Sum of all elements in tensor1: {sum_one}\")\n",
        "sum_two = torch.sum(tensor2)\n",
        "print(f\"Sum of all elements in tensor2: {sum_two}\")"
      ],
      "metadata": {
        "id": "pm2w7_UnfvZe"
      },
      "execution_count": null,
      "outputs": []
    },
    {
      "cell_type": "markdown",
      "source": [
        "### Min of all elements in a tensor"
      ],
      "metadata": {
        "id": "79mkH_JKk6Xu"
      }
    },
    {
      "cell_type": "code",
      "source": [
        "min_one = torch.min(tensor1) # tensor1.min()\n",
        "print(f\"Minimum of all elements in tensor1: {min_one}\")\n",
        "min_two = torch.min(tensor2)\n",
        "print(f\"Minimum of all elements in tensor2: {min_two}\")"
      ],
      "metadata": {
        "id": "kPMP8cOUgnNm"
      },
      "execution_count": null,
      "outputs": []
    },
    {
      "cell_type": "code",
      "source": [
        "# tensor1.argmin() # provides the index\n",
        "# tensor1.argmax()"
      ],
      "metadata": {
        "id": "BUyq4B4_jENB"
      },
      "execution_count": null,
      "outputs": []
    },
    {
      "cell_type": "markdown",
      "source": [
        "### Max of all elements in a tensor"
      ],
      "metadata": {
        "id": "cy6et4PslBwx"
      }
    },
    {
      "cell_type": "code",
      "source": [
        "max_one = torch.max(tensor1) # tensor1.max()\n",
        "print(f\"Maximum of all elements in tensor1: {max_one}\")\n",
        "max_two = torch.max(tensor2)\n",
        "print(f\"Maximum of all elements in tensor2: {max_two}\")"
      ],
      "metadata": {
        "id": "ydhHQETgg4tY"
      },
      "execution_count": null,
      "outputs": []
    },
    {
      "cell_type": "markdown",
      "source": [
        "### Mean of all elements in a tensor"
      ],
      "metadata": {
        "id": "JkGsOI7OlG_n"
      }
    },
    {
      "cell_type": "code",
      "source": [
        "mean_one = torch.mean(tensor1.float())  # or tensor1.float().mean()\n",
        "print(f\"Mean of all elements in tensor1: {mean_one}\")\n",
        "\n",
        "mean_two = torch.mean(tensor2.float())\n",
        "print(f\"Mean of all elements in tensor2: {mean_two}\")"
      ],
      "metadata": {
        "id": "QeK7ureUhWZd"
      },
      "execution_count": null,
      "outputs": []
    },
    {
      "cell_type": "code",
      "source": [
        "# tensor1.mean()\n",
        "# RuntimeError: mean(): could not infer output dtype. Input dtype must be either a floating point or complex dtype. Got: Long\n",
        "\n",
        "# change the datatype and then calculate the mean"
      ],
      "metadata": {
        "id": "-2LtUC4jhmen"
      },
      "execution_count": null,
      "outputs": []
    },
    {
      "cell_type": "code",
      "source": [
        "tensor1.float().mean()"
      ],
      "metadata": {
        "id": "nwvS6JIhiLrL"
      },
      "execution_count": null,
      "outputs": []
    },
    {
      "cell_type": "code",
      "source": [
        "torch.mean(tensor1.type(torch.float32))"
      ],
      "metadata": {
        "id": "2DAyUvf5iRTT"
      },
      "execution_count": null,
      "outputs": []
    },
    {
      "cell_type": "markdown",
      "source": [
        "# Generating a random tensor for an image (example: 3 channels, 224x224 pixels)"
      ],
      "metadata": {
        "id": "-WtPFp3ZJFTN"
      }
    },
    {
      "cell_type": "code",
      "source": [
        "image_tensor = torch.rand(3, 224, 224) # RGB; color channel, height*width"
      ],
      "metadata": {
        "id": "smcIqF9RH6uo"
      },
      "execution_count": null,
      "outputs": []
    },
    {
      "cell_type": "code",
      "source": [
        "print(\"Shape of the tensor: \", image_tensor.shape)\n",
        "print(\"Datatype of the tensor: \", image_tensor.dtype)\n",
        "print(\"Number of dimensions in the tensor: \", image_tensor.ndim)\n",
        "print(\"Device tensor is stored on: \", image_tensor.device)"
      ],
      "metadata": {
        "colab": {
          "base_uri": "https://localhost:8080/"
        },
        "id": "phiWIbZBJg_R",
        "outputId": "a332a1d8-de93-42c8-c0dd-39f647c2e56b"
      },
      "execution_count": null,
      "outputs": [
        {
          "output_type": "stream",
          "name": "stdout",
          "text": [
            "Shape of the tensor:  torch.Size([3, 224, 224])\n",
            "Datatype of the tensor:  torch.float32\n",
            "Number of dimensions in the tensor:  3\n",
            "Device tensor is stored on:  cpu\n"
          ]
        }
      ]
    }
  ]
}