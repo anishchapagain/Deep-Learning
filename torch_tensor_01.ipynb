{
  "cells": [
    {
      "cell_type": "markdown",
      "metadata": {
        "colab_type": "text",
        "id": "view-in-github"
      },
      "source": [
        "<a href=\"https://colab.research.google.com/github/anishchapagain/Deep-Learning/blob/main/torch_tensor_01.ipynb\" target=\"_parent\"><img src=\"https://colab.research.google.com/assets/colab-badge.svg\" alt=\"Open In Colab\"/></a>"
      ]
    },
    {
      "cell_type": "markdown",
      "metadata": {
        "id": "po2xlYeDXfWq"
      },
      "source": [
        "## Scalar - Vector - Matrix & Tensor"
      ]
    },
    {
      "cell_type": "code",
      "execution_count": null,
      "metadata": {
        "id": "fFTLa6VOUn7R"
      },
      "outputs": [],
      "source": [
        "import torch"
      ]
    },
    {
      "cell_type": "markdown",
      "metadata": {
        "id": "L2XHpSgbVgZz"
      },
      "source": [
        "### Scalar"
      ]
    },
    {
      "cell_type": "code",
      "execution_count": 1,
      "metadata": {
        "colab": {
          "base_uri": "https://localhost:8080/"
        },
        "id": "-ZgDQ-fST0z8",
        "outputId": "f45a97f7-a6a8-4a35-c11e-85ec24e0e79f"
      },
      "outputs": [
        {
          "name": "stdout",
          "output_type": "stream",
          "text": [
            "tensor(5)\n"
          ]
        }
      ],
      "source": [
        "# scalar tensor\n",
        "\n",
        "x = torch.tensor(5)\n",
        "print(x)"
      ]
    },
    {
      "cell_type": "code",
      "execution_count": 2,
      "metadata": {
        "colab": {
          "base_uri": "https://localhost:8080/"
        },
        "id": "V9iENFrCUgGo",
        "outputId": "7176de98-ef27-42aa-d4e7-53f64c5ab68f"
      },
      "outputs": [
        {
          "name": "stdout",
          "output_type": "stream",
          "text": [
            "type : torch.int64\n",
            "shape : torch.Size([])\n",
            "requires grad : False\n",
            "item : 5\n",
            "nDim : 0\n"
          ]
        }
      ],
      "source": [
        "print(f\"type : {x.dtype}\") # data type\n",
        "print(f\"shape : {x.shape}\") # shape\n",
        "print(f\"requires grad : {x.requires_grad}\") # gradient tracking\n",
        "print(f\"item : {x.item()}\") # convert to python int\n",
        "print(f\"nDim : {x.ndim}\")\n"
      ]
    },
    {
      "cell_type": "markdown",
      "metadata": {
        "id": "-0GsvTJuVkRG"
      },
      "source": [
        "### Vector"
      ]
    },
    {
      "cell_type": "code",
      "execution_count": 3,
      "metadata": {
        "colab": {
          "base_uri": "https://localhost:8080/"
        },
        "id": "YEvMjqtRVnRJ",
        "outputId": "4f59cf50-b9b7-4a50-d86e-320547c34f74"
      },
      "outputs": [
        {
          "name": "stdout",
          "output_type": "stream",
          "text": [
            "tensor([1, 2, 3])\n"
          ]
        }
      ],
      "source": [
        "v = torch.tensor([1,2,3])\n",
        "print(v)"
      ]
    },
    {
      "cell_type": "code",
      "execution_count": 5,
      "metadata": {
        "colab": {
          "base_uri": "https://localhost:8080/"
        },
        "id": "nnHA6BP9Vryw",
        "outputId": "9e7ada94-3d3c-4be3-ac5a-9f60f57aa1ca"
      },
      "outputs": [
        {
          "name": "stdout",
          "output_type": "stream",
          "text": [
            "type : torch.int64\n",
            "shape : torch.Size([3])\n",
            "requires grad : False\n",
            "nDim : 1\n"
          ]
        }
      ],
      "source": [
        "print(f\"type : {v.dtype}\") # data type\n",
        "print(f\"shape : {v.shape}\") # shape\n",
        "print(f\"requires grad : {v.requires_grad}\") # gradient tracking\n",
        "print(f\"nDim : {v.ndim}\")"
      ]
    },
    {
      "cell_type": "markdown",
      "metadata": {
        "id": "X86s_oPhWD45"
      },
      "source": [
        "### Matrix"
      ]
    },
    {
      "cell_type": "code",
      "execution_count": 6,
      "metadata": {
        "colab": {
          "base_uri": "https://localhost:8080/"
        },
        "id": "0Wvo_0RSWFv3",
        "outputId": "8f665cba-7c06-4c7c-ed14-b794308c9f17"
      },
      "outputs": [
        {
          "name": "stdout",
          "output_type": "stream",
          "text": [
            "tensor([[1, 2, 3],\n",
            "        [4, 5, 6]])\n",
            "type : torch.int64\n",
            "shape : torch.Size([2, 3])\n",
            "requires grad : False\n",
            "nDim : 2\n",
            "1\n",
            "2\n",
            "3\n"
          ]
        }
      ],
      "source": [
        "# prompt: generate a matrix and reveal its major properties such as shape and individual elments\n",
        "\n",
        "# ### Matrix\n",
        "m = torch.tensor([[1,2,3],\n",
        "                  [4,5,6]])\n",
        "print(m)\n",
        "print(f\"type : {m.dtype}\") # data type\n",
        "print(f\"shape : {m.shape}\") # shape\n",
        "print(f\"requires grad : {m.requires_grad}\") # gradient tracking\n",
        "print(f\"nDim : {m.ndim}\")\n",
        "print(m[0][0].item())\n",
        "print(m[0][1].item())\n",
        "print(m[0][2].item())\n"
      ]
    },
    {
      "cell_type": "markdown",
      "metadata": {
        "id": "Uk171rE_XX1M"
      },
      "source": [
        "### Tensor"
      ]
    },
    {
      "cell_type": "code",
      "execution_count": 7,
      "metadata": {
        "colab": {
          "base_uri": "https://localhost:8080/"
        },
        "id": "5Vd4y2UPWlNQ",
        "outputId": "2275d846-f9ab-4b6c-8070-a0283e23ebff"
      },
      "outputs": [
        {
          "name": "stdout",
          "output_type": "stream",
          "text": [
            "Tensor: tensor([[[ 1,  2,  3],\n",
            "         [ 4,  5,  6]],\n",
            "\n",
            "        [[ 7,  8,  9],\n",
            "         [10, 11, 12]]])\n",
            "Shape: torch.Size([2, 2, 3])\n",
            "Data type: torch.int64\n",
            "Number of dimensions: 3\n",
            "Individual elements:\n",
            "t[0][0][0] = 1\n",
            "t[0][0][1] = 2\n",
            "t[0][0][2] = 3\n",
            "t[0][1][0] = 4\n",
            "t[0][1][1] = 5\n",
            "t[0][1][2] = 6\n",
            "t[1][0][0] = 7\n",
            "t[1][0][1] = 8\n",
            "t[1][0][2] = 9\n",
            "t[1][1][0] = 10\n",
            "t[1][1][1] = 11\n",
            "t[1][1][2] = 12\n"
          ]
        }
      ],
      "source": [
        "# Generate a tensor\n",
        "t = torch.tensor([[[1, 2, 3], [4, 5, 6]], [[7, 8, 9], [10, 11, 12]]])\n",
        "\n",
        "# Print the tensor\n",
        "print(\"Tensor:\", t)\n",
        "\n",
        "# Print the shape of the tensor\n",
        "print(\"Shape:\", t.shape)\n",
        "\n",
        "# Print the data type of the tensor\n",
        "print(\"Data type:\", t.dtype)\n",
        "\n",
        "# Print the number of dimensions of the tensor\n",
        "print(\"Number of dimensions:\", t.ndim)\n",
        "\n",
        "# Print the individual elements of the tensor\n",
        "print(\"Individual elements:\")\n",
        "for i in range(t.shape[0]):\n",
        "  for j in range(t.shape[1]):\n",
        "    for k in range(t.shape[2]):\n",
        "      print(f\"t[{i}][{j}][{k}] = {t[i][j][k]}\")\n"
      ]
    },
    {
      "cell_type": "code",
      "execution_count": 8,
      "metadata": {
        "colab": {
          "base_uri": "https://localhost:8080/"
        },
        "id": "gQCVGXmnXKLA",
        "outputId": "a0055ed4-36a6-4f65-bbf5-a1259653e9ff"
      },
      "outputs": [
        {
          "data": {
            "text/plain": [
              "tensor([[1, 2, 3],\n",
              "        [4, 5, 6]])"
            ]
          },
          "execution_count": 8,
          "metadata": {},
          "output_type": "execute_result"
        }
      ],
      "source": [
        "t[0]"
      ]
    },
    {
      "cell_type": "code",
      "execution_count": 9,
      "metadata": {
        "colab": {
          "base_uri": "https://localhost:8080/"
        },
        "id": "Tn6zVagmXMxF",
        "outputId": "a8d731c1-1f50-4efe-a77a-cdf23ac00c82"
      },
      "outputs": [
        {
          "data": {
            "text/plain": [
              "tensor([[ 7,  8,  9],\n",
              "        [10, 11, 12]])"
            ]
          },
          "execution_count": 9,
          "metadata": {},
          "output_type": "execute_result"
        }
      ],
      "source": [
        "t[1]"
      ]
    }
  ],
  "metadata": {
    "colab": {
      "authorship_tag": "ABX9TyMbRkkdNpBPhf6vfGOhx8Js",
      "include_colab_link": true,
      "provenance": []
    },
    "kernelspec": {
      "display_name": "Python 3",
      "name": "python3"
    },
    "language_info": {
      "name": "python"
    }
  },
  "nbformat": 4,
  "nbformat_minor": 0
}
