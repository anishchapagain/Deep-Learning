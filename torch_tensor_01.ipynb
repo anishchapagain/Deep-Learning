{
  "nbformat": 4,
  "nbformat_minor": 0,
  "metadata": {
    "colab": {
      "provenance": [],
      "authorship_tag": "ABX9TyMbRkkdNpBPhf6vfGOhx8Js",
      "include_colab_link": true
    },
    "kernelspec": {
      "name": "python3",
      "display_name": "Python 3"
    },
    "language_info": {
      "name": "python"
    }
  },
  "cells": [
    {
      "cell_type": "markdown",
      "metadata": {
        "id": "view-in-github",
        "colab_type": "text"
      },
      "source": [
        "<a href=\"https://colab.research.google.com/github/anishchapagain/Deep-Learning/blob/main/torch_tensor_01.ipynb\" target=\"_parent\"><img src=\"https://colab.research.google.com/assets/colab-badge.svg\" alt=\"Open In Colab\"/></a>"
      ]
    },
    {
      "cell_type": "markdown",
      "source": [
        "## Scalar - Vector - Matrix & Tensor"
      ],
      "metadata": {
        "id": "po2xlYeDXfWq"
      }
    },
    {
      "cell_type": "code",
      "source": [
        "import torch"
      ],
      "metadata": {
        "id": "fFTLa6VOUn7R"
      },
      "execution_count": null,
      "outputs": []
    },
    {
      "cell_type": "markdown",
      "source": [
        "### Scalar"
      ],
      "metadata": {
        "id": "L2XHpSgbVgZz"
      }
    },
    {
      "cell_type": "code",
      "execution_count": 1,
      "metadata": {
        "colab": {
          "base_uri": "https://localhost:8080/"
        },
        "id": "-ZgDQ-fST0z8",
        "outputId": "f45a97f7-a6a8-4a35-c11e-85ec24e0e79f"
      },
      "outputs": [
        {
          "output_type": "stream",
          "name": "stdout",
          "text": [
            "tensor(5)\n"
          ]
        }
      ],
      "source": [
        "# scalar tensor\n",
        "\n",
        "x = torch.tensor(5)\n",
        "print(x)"
      ]
    },
    {
      "cell_type": "code",
      "source": [
        "print(f\"type : {x.dtype}\") # data type\n",
        "print(f\"shape : {x.shape}\") # shape\n",
        "print(f\"requires grad : {x.requires_grad}\") # gradient tracking\n",
        "print(f\"item : {x.item()}\") # convert to python int\n",
        "print(f\"nDim : {x.ndim}\")\n"
      ],
      "metadata": {
        "colab": {
          "base_uri": "https://localhost:8080/"
        },
        "id": "V9iENFrCUgGo",
        "outputId": "7176de98-ef27-42aa-d4e7-53f64c5ab68f"
      },
      "execution_count": 2,
      "outputs": [
        {
          "output_type": "stream",
          "name": "stdout",
          "text": [
            "type : torch.int64\n",
            "shape : torch.Size([])\n",
            "requires grad : False\n",
            "item : 5\n",
            "nDim : 0\n"
          ]
        }
      ]
    },
    {
      "cell_type": "markdown",
      "source": [
        "### Vector"
      ],
      "metadata": {
        "id": "-0GsvTJuVkRG"
      }
    },
    {
      "cell_type": "code",
      "source": [
        "v = torch.tensor([1,2,3])\n",
        "print(v)"
      ],
      "metadata": {
        "colab": {
          "base_uri": "https://localhost:8080/"
        },
        "id": "YEvMjqtRVnRJ",
        "outputId": "4f59cf50-b9b7-4a50-d86e-320547c34f74"
      },
      "execution_count": 3,
      "outputs": [
        {
          "output_type": "stream",
          "name": "stdout",
          "text": [
            "tensor([1, 2, 3])\n"
          ]
        }
      ]
    },
    {
      "cell_type": "code",
      "source": [
        "print(f\"type : {v.dtype}\") # data type\n",
        "print(f\"shape : {v.shape}\") # shape\n",
        "print(f\"requires grad : {v.requires_grad}\") # gradient tracking\n",
        "print(f\"nDim : {v.ndim}\")"
      ],
      "metadata": {
        "colab": {
          "base_uri": "https://localhost:8080/"
        },
        "id": "nnHA6BP9Vryw",
        "outputId": "9e7ada94-3d3c-4be3-ac5a-9f60f57aa1ca"
      },
      "execution_count": 5,
      "outputs": [
        {
          "output_type": "stream",
          "name": "stdout",
          "text": [
            "type : torch.int64\n",
            "shape : torch.Size([3])\n",
            "requires grad : False\n",
            "nDim : 1\n"
          ]
        }
      ]
    },
    {
      "cell_type": "markdown",
      "source": [
        "### Matrix"
      ],
      "metadata": {
        "id": "X86s_oPhWD45"
      }
    },
    {
      "cell_type": "code",
      "source": [
        "# prompt: generate a matrix and reveal its major properties such as shape and individual elments\n",
        "\n",
        "# ### Matrix\n",
        "m = torch.tensor([[1,2,3],\n",
        "                  [4,5,6]])\n",
        "print(m)\n",
        "print(f\"type : {m.dtype}\") # data type\n",
        "print(f\"shape : {m.shape}\") # shape\n",
        "print(f\"requires grad : {m.requires_grad}\") # gradient tracking\n",
        "print(f\"nDim : {m.ndim}\")\n",
        "print(m[0][0].item())\n",
        "print(m[0][1].item())\n",
        "print(m[0][2].item())\n"
      ],
      "metadata": {
        "colab": {
          "base_uri": "https://localhost:8080/"
        },
        "id": "0Wvo_0RSWFv3",
        "outputId": "8f665cba-7c06-4c7c-ed14-b794308c9f17"
      },
      "execution_count": 6,
      "outputs": [
        {
          "output_type": "stream",
          "name": "stdout",
          "text": [
            "tensor([[1, 2, 3],\n",
            "        [4, 5, 6]])\n",
            "type : torch.int64\n",
            "shape : torch.Size([2, 3])\n",
            "requires grad : False\n",
            "nDim : 2\n",
            "1\n",
            "2\n",
            "3\n"
          ]
        }
      ]
    },
    {
      "cell_type": "markdown",
      "source": [
        "### Tensor"
      ],
      "metadata": {
        "id": "Uk171rE_XX1M"
      }
    },
    {
      "cell_type": "code",
      "source": [
        "# prompt: # prompt: generate a tesor and reveal its major properties such as shape and individual elements\n",
        "\n",
        "# Generate a tensor\n",
        "t = torch.tensor([[[1, 2, 3], [4, 5, 6]], [[7, 8, 9], [10, 11, 12]]])\n",
        "\n",
        "# Print the tensor\n",
        "print(\"Tensor:\", t)\n",
        "\n",
        "# Print the shape of the tensor\n",
        "print(\"Shape:\", t.shape)\n",
        "\n",
        "# Print the data type of the tensor\n",
        "print(\"Data type:\", t.dtype)\n",
        "\n",
        "# Print the number of dimensions of the tensor\n",
        "print(\"Number of dimensions:\", t.ndim)\n",
        "\n",
        "# Print the individual elements of the tensor\n",
        "print(\"Individual elements:\")\n",
        "for i in range(t.shape[0]):\n",
        "  for j in range(t.shape[1]):\n",
        "    for k in range(t.shape[2]):\n",
        "      print(f\"t[{i}][{j}][{k}] = {t[i][j][k]}\")\n"
      ],
      "metadata": {
        "colab": {
          "base_uri": "https://localhost:8080/"
        },
        "id": "5Vd4y2UPWlNQ",
        "outputId": "2275d846-f9ab-4b6c-8070-a0283e23ebff"
      },
      "execution_count": 7,
      "outputs": [
        {
          "output_type": "stream",
          "name": "stdout",
          "text": [
            "Tensor: tensor([[[ 1,  2,  3],\n",
            "         [ 4,  5,  6]],\n",
            "\n",
            "        [[ 7,  8,  9],\n",
            "         [10, 11, 12]]])\n",
            "Shape: torch.Size([2, 2, 3])\n",
            "Data type: torch.int64\n",
            "Number of dimensions: 3\n",
            "Individual elements:\n",
            "t[0][0][0] = 1\n",
            "t[0][0][1] = 2\n",
            "t[0][0][2] = 3\n",
            "t[0][1][0] = 4\n",
            "t[0][1][1] = 5\n",
            "t[0][1][2] = 6\n",
            "t[1][0][0] = 7\n",
            "t[1][0][1] = 8\n",
            "t[1][0][2] = 9\n",
            "t[1][1][0] = 10\n",
            "t[1][1][1] = 11\n",
            "t[1][1][2] = 12\n"
          ]
        }
      ]
    },
    {
      "cell_type": "code",
      "source": [
        "t[0]"
      ],
      "metadata": {
        "colab": {
          "base_uri": "https://localhost:8080/"
        },
        "id": "gQCVGXmnXKLA",
        "outputId": "a0055ed4-36a6-4f65-bbf5-a1259653e9ff"
      },
      "execution_count": 8,
      "outputs": [
        {
          "output_type": "execute_result",
          "data": {
            "text/plain": [
              "tensor([[1, 2, 3],\n",
              "        [4, 5, 6]])"
            ]
          },
          "metadata": {},
          "execution_count": 8
        }
      ]
    },
    {
      "cell_type": "code",
      "source": [
        "t[1]"
      ],
      "metadata": {
        "colab": {
          "base_uri": "https://localhost:8080/"
        },
        "id": "Tn6zVagmXMxF",
        "outputId": "a8d731c1-1f50-4efe-a77a-cdf23ac00c82"
      },
      "execution_count": 9,
      "outputs": [
        {
          "output_type": "execute_result",
          "data": {
            "text/plain": [
              "tensor([[ 7,  8,  9],\n",
              "        [10, 11, 12]])"
            ]
          },
          "metadata": {},
          "execution_count": 9
        }
      ]
    }
  ]
}